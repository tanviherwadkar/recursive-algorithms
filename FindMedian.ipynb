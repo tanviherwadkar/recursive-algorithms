{
  "nbformat": 4,
  "nbformat_minor": 0,
  "metadata": {
    "colab": {
      "provenance": [],
      "collapsed_sections": []
    },
    "kernelspec": {
      "name": "python3",
      "display_name": "Python 3"
    },
    "language_info": {
      "name": "python"
    }
  },
  "cells": [
    {
      "cell_type": "markdown",
      "source": [
        "Find Median finds the median in a given array by arranging the contents about a pivot and recusively repeating that until the median is found. This can be done by creating new arrays or done in place; both of which are implemented below\n",
        "\n",
        "---\n",
        "\n",
        "**Assignment based on:**\n",
        "\n",
        "\"Algorithms\" by S. Dasgupta, C.H. Papadimitriou, and U.V. Vazirani\n",
        "\n",
        "\"Algorithms 1\" on Stanford Online at https://www.youtube.com/playlist?list=PLXFMmlk03Dt7Q0xr1PIAriY5623cKiH7V\n",
        "\n",
        "\n",
        "---"
      ],
      "metadata": {
        "id": "jSTO0wT1d3o3"
      }
    },
    {
      "cell_type": "markdown",
      "source": [
        "**FIND MEDIAN BUT NOT IN PLACE (three new arrays created)**"
      ],
      "metadata": {
        "id": "wpCDOBGvTS6S"
      }
    },
    {
      "cell_type": "code",
      "source": [
        "import random"
      ],
      "metadata": {
        "id": "w0n9_7z6j8cX"
      },
      "execution_count": null,
      "outputs": []
    },
    {
      "cell_type": "markdown",
      "source": [
        "**findMedian()**\n",
        "\n",
        "Finds the kth smallest element in an array in linear time. In the process it makes two new arrays with every recursive call\n",
        "\n",
        "**Arguments:**\n",
        "\n",
        "*  arr - list of numbers\n",
        "*   th - k\n",
        "\n",
        "**Returns:**\n",
        "\n",
        "*   kth smallest element\n",
        "\n"
      ],
      "metadata": {
        "id": "Z7Z-uMTludcJ"
      }
    },
    {
      "cell_type": "code",
      "execution_count": null,
      "metadata": {
        "id": "WwQXaqekjBkd"
      },
      "outputs": [],
      "source": [
        "def findMedian(arr, th):\n",
        "  \n",
        "  rand = random.choice(arr)\n",
        "  print(\"rand = \" + str(rand))\n",
        "  print(\"th = \" + str(th))\n",
        "  \n",
        "  sL = []74\n",
        "  sTh = []\n",
        "  sR = []\n",
        "\n",
        "  for i in arr:\n",
        "    if i < rand:\n",
        "      sL.append(i)\n",
        "    \n",
        "    elif i == rand:\n",
        "      sTh.append(i)\n",
        "\n",
        "    else:\n",
        "      sR.append(i)\n",
        "\n",
        "  print(\"sL: \" + str(sL))\n",
        "  print(\"sTh: \" + str(sTh))\n",
        "  print(\"sR: \" + str(sR))\n",
        "  \n",
        "  if len(sL) >= th and len(sL) != 0:\n",
        "    print(\"target in sL\")\n",
        "    print(\"------\")\n",
        "    return findMedian(sL, th)\n",
        "\n",
        "  if (len(sL) < th) and ((len(sL) + len(sTh)) >= th):\n",
        "    print(\"target in sTh\")\n",
        "    print(\"------\")\n",
        "    return \"the median is \" + str(rand)\n",
        "  \n",
        "  if (len(sL) + len(sTh)) < th:\n",
        "    print(\"target in sR\")\n",
        "    print(\"------\")\n",
        "    return findMedian(sR, th - (len(sL) + len(sTh)))\n",
        "  "
      ]
    },
    {
      "cell_type": "code",
      "source": [
        "arr = [3, 13, 2, 34, 11, 17, 27, 47]\n",
        "th = len(arr) / 2\n",
        "print(findMedian(arr, 7))\n",
        "arr.sort()\n",
        "print(arr)"
      ],
      "metadata": {
        "colab": {
          "base_uri": "https://localhost:8080/"
        },
        "id": "t2oMUKEllaP5",
        "outputId": "889b95cf-0824-43c1-bfd5-0fbd5c3d4fe6"
      },
      "execution_count": null,
      "outputs": [
        {
          "output_type": "stream",
          "name": "stdout",
          "text": [
            "rand = 11\n",
            "th = 7\n",
            "sL: [3, 2]\n",
            "sTh: [11]\n",
            "sR: [13, 34, 17, 27, 47]\n",
            "target in sR\n",
            "------\n",
            "rand = 17\n",
            "th = 4\n",
            "sL: [13]\n",
            "sTh: [17]\n",
            "sR: [34, 27, 47]\n",
            "target in sR\n",
            "------\n",
            "rand = 34\n",
            "th = 2\n",
            "sL: [27]\n",
            "sTh: [34]\n",
            "sR: [47]\n",
            "target in sTh\n",
            "------\n",
            "the median is 34\n",
            "[2, 3, 11, 13, 17, 27, 34, 47]\n"
          ]
        }
      ]
    },
    {
      "cell_type": "code",
      "source": [],
      "metadata": {
        "id": "C21bxSe8T3Jg"
      },
      "execution_count": null,
      "outputs": []
    },
    {
      "cell_type": "markdown",
      "source": [
        "---\n",
        "**FIND MEDIAN BUT IN PLACE (using partition from quicksort)**"
      ],
      "metadata": {
        "id": "ubmiuiTETqMW"
      }
    },
    {
      "cell_type": "markdown",
      "source": [
        "**partition()**\n",
        "\n",
        "rearranges the slice of the original array so that all the elements to the left of the pivot are smaller and those to the right are larger\n",
        "\n",
        "**Arguments:**\n",
        "\n",
        "\n",
        "*   array\n",
        "*   left - leftmost element\n",
        "*   right - rightmost element\n",
        "\n",
        "**Returns:**\n",
        "\n",
        "\n",
        "\n",
        "*   partitioned array\n",
        "*   pivot\n",
        "*   index of pivot\n",
        "\n",
        "\n",
        "\n"
      ],
      "metadata": {
        "id": "8X8gKVBrdtwk"
      }
    },
    {
      "cell_type": "code",
      "source": [
        "def partition(array, left, right):\n",
        "\n",
        "  countThs = 1\n",
        "  \n",
        "  rand = random.randrange(0, len(array))\n",
        "  array[left], array[rand] = array[rand], array[left]\n",
        "\n",
        "  pivot = array[left];\n",
        "  i = left + 1;\n",
        "\n",
        "  for j in range(left+1, right):\n",
        "    if array[j] > pivot:\n",
        "      continue;\n",
        "    \n",
        "    if array[j] < pivot:\n",
        "      array[j], array[i] = array[i], array[j];\n",
        "      i = i + 1;\n",
        "\n",
        "  array[left], array[i - 1] = array[i - 1], array[left];\n",
        "\n",
        "  return array, pivot, (i-1)"
      ],
      "metadata": {
        "id": "8llIlz3xTO7V"
      },
      "execution_count": null,
      "outputs": []
    },
    {
      "cell_type": "code",
      "source": [
        "arr = [3, 4, 6, 4, 7, 6, 3, 7, 4]\n",
        "arr, pivot, p = partition(arr, 0, len(arr))\n",
        "print(arr)\n",
        "print(f\"{pivot} is at {p}\")"
      ],
      "metadata": {
        "colab": {
          "base_uri": "https://localhost:8080/"
        },
        "id": "4LirBNillgd3",
        "outputId": "55b99b47-35a1-4934-a13f-b8ae91ab8299"
      },
      "execution_count": null,
      "outputs": [
        {
          "output_type": "stream",
          "name": "stdout",
          "text": [
            "[4, 4, 3, 4, 3, 6, 7, 7, 6]\n",
            "6 is at 5\n"
          ]
        }
      ]
    },
    {
      "cell_type": "markdown",
      "source": [
        "**findMedian2()**\n",
        "\n",
        "Finds median in the same way as findMedian() but in place\n",
        "\n",
        "**Arguments:**\n",
        "\n",
        "\n",
        "*   arr - array\n",
        "*   th - k\n",
        "\n",
        "**Returns:**\n",
        "\n",
        "\n",
        "*   kth smallest element\n",
        "\n",
        "\n",
        "\n"
      ],
      "metadata": {
        "id": "RobM1Uh3_V3v"
      }
    },
    {
      "cell_type": "code",
      "source": [
        "def findMedian2(arr, th):\n",
        "  \n",
        "  newA, piv, i = partition(arr, 0, len(arr))\n",
        "  i = i + 1\n",
        "\n",
        "  if th < i:\n",
        "    return findMedian2(newA[:(i-1)], th)\n",
        "  \n",
        "  if th > i:\n",
        "    return findMedian2(newA[i:], th - i)\n",
        "  \n",
        "  if i == th:\n",
        "    return piv"
      ],
      "metadata": {
        "id": "emstfp1slhHW"
      },
      "execution_count": null,
      "outputs": []
    },
    {
      "cell_type": "code",
      "source": [
        "arr = random.sample(range(0, 100), 10);\n",
        "arr = [ 4, 4, 1, 1, 1, 10, 9, 5, 6 ]\n",
        "print(arr)\n",
        "\n",
        "for i in range(len(arr)):\n",
        "  th = findMedian2(arr, i+1)\n",
        "  print(f\"{i+1} smallest number is {th}\")\n",
        "\n",
        "arr.sort()\n",
        "print(arr)"
      ],
      "metadata": {
        "colab": {
          "base_uri": "https://localhost:8080/"
        },
        "id": "hwdXyPpVVW5S",
        "outputId": "7f333690-e857-48b4-f2bc-0f2ade266d31"
      },
      "execution_count": null,
      "outputs": [
        {
          "output_type": "stream",
          "name": "stdout",
          "text": [
            "[4, 4, 1, 1, 1, 10, 9, 5, 6]\n",
            "1 smallest number is 1\n",
            "2 smallest number is 1\n",
            "3 smallest number is 1\n",
            "4 smallest number is 4\n",
            "5 smallest number is 4\n",
            "6 smallest number is 5\n",
            "7 smallest number is 6\n",
            "8 smallest number is 9\n",
            "9 smallest number is 10\n",
            "[1, 1, 1, 4, 4, 5, 6, 9, 10]\n"
          ]
        }
      ]
    },
    {
      "cell_type": "code",
      "source": [],
      "metadata": {
        "id": "CdTQRAwv-Jgr"
      },
      "execution_count": null,
      "outputs": []
    }
  ]
}