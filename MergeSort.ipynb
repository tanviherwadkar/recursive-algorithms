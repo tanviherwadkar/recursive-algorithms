{
  "nbformat": 4,
  "nbformat_minor": 0,
  "metadata": {
    "colab": {
      "name": "merge.ipynb",
      "provenance": [],
      "collapsed_sections": []
    },
    "kernelspec": {
      "name": "python3",
      "display_name": "Python 3"
    },
    "language_info": {
      "name": "python"
    }
  },
  "cells": [
    {
      "cell_type": "code",
      "source": [
        "import numpy as np"
      ],
      "metadata": {
        "id": "IaxDbsm_vTrb"
      },
      "execution_count": null,
      "outputs": []
    },
    {
      "cell_type": "code",
      "source": [
        "def appendEnd(base, arr, idx):\n",
        "  for k in range(idx, len(arr)):\n",
        "          base.append(arr[k])\n",
        "  return base"
      ],
      "metadata": {
        "id": "G7P9kztx2mJf"
      },
      "execution_count": null,
      "outputs": []
    },
    {
      "cell_type": "code",
      "source": [
        "def merge(left, right, counter = 0):\n",
        "  array_len = len(left) + len(right);\n",
        "  output = [];\n",
        "  \n",
        "  i = 0;\n",
        "  j = 0;\n",
        "\n",
        "  while len(output) <= array_len:\n",
        "    \n",
        "    if i >= len(left):\n",
        "        appendEnd(output, right, j);\n",
        "        break;\n",
        "        \n",
        "    if j >= len(right):\n",
        "        appendEnd(output, left, i);\n",
        "        break;\n",
        "\n",
        "    if left[i] < right[j]:\n",
        "      output.append(left[i]);\n",
        "      i += 1;\n",
        "    elif right[j] < left[i]:\n",
        "      output.append(right[j]);\n",
        "      j += 1;\n",
        "    else:\n",
        "      output.append(right[j]);\n",
        "      j += 1;\n",
        "  \n",
        "  #print(\"done: i = \" + str(i) + \", j = \" + str(j));\n",
        "\n",
        "  return output;"
      ],
      "metadata": {
        "id": "WNZSWUfkokfE"
      },
      "execution_count": null,
      "outputs": []
    },
    {
      "cell_type": "code",
      "source": [
        "def inject(arr, elem):\n",
        "  arr.append(elem)\n",
        "  return arr\n",
        "\n",
        "def eject(arr):\n",
        "  return arr.pop(0)\n",
        "\n",
        "def merge_Rec (arrX, arrY):\n",
        "  if len(arrX) == 0:\n",
        "    return arrY\n",
        "\n",
        "  if len(arrY) == 0:\n",
        "    return arrX\n",
        "  \n",
        "  if arrX[0] <= arrY[0]:\n",
        "    return [arrX[0]] + merge_Rec(arrX[1:], arrY)\n",
        "  else:\n",
        "    return [arrY[0]] + merge_Rec(arrX, arrY[1:])\n",
        "\n",
        "def mergeSort_nonRec(arr):\n",
        "  q = []\n",
        "\n",
        "  for i in range(len(arr)):\n",
        "    inject(q, [arr[i]])\n",
        "\n",
        "  print(q)\n",
        "\n",
        "  while len(q) > 1:\n",
        "    inject(q, merge_Rec(eject(q), eject(q)))\n",
        "\n",
        "  return eject(q)"
      ],
      "metadata": {
        "id": "jLonersh4x6r"
      },
      "execution_count": null,
      "outputs": []
    },
    {
      "cell_type": "code",
      "source": [
        "x = merge_Rec([1, 3, 5, 7, 9, 11], [2, 4, 6, 8, 10, 12])\n",
        "print(x)"
      ],
      "metadata": {
        "colab": {
          "base_uri": "https://localhost:8080/"
        },
        "id": "cdYo5L2XFP--",
        "outputId": "f67272a7-e240-4d6e-a06c-9fbf5c8efa17"
      },
      "execution_count": null,
      "outputs": [
        {
          "output_type": "stream",
          "name": "stdout",
          "text": [
            "[1, 2, 3, 4, 5, 6, 7, 8, 9, 10, 11, 12]\n"
          ]
        }
      ]
    },
    {
      "cell_type": "code",
      "source": [
        "arr = [10, 9, 8, 7, 6, 5, 4, 3, 2, 1]\n",
        "print(mergeSort_nonRec(arr))"
      ],
      "metadata": {
        "colab": {
          "base_uri": "https://localhost:8080/"
        },
        "id": "CTQO9UDkr0sg",
        "outputId": "42fbb748-4ac3-4454-ef4c-d947741452fc"
      },
      "execution_count": null,
      "outputs": [
        {
          "output_type": "stream",
          "name": "stdout",
          "text": [
            "[[10], [9], [8], [7], [6], [5], [4], [3], [2], [1]]\n",
            "[1, 2, 3, 4, 5, 6, 7, 8, 9, 10]\n"
          ]
        }
      ]
    },
    {
      "cell_type": "code",
      "source": [
        "def mergesort (array):\n",
        "  #Base case\n",
        "  if len(array) <= 1:\n",
        "    return array;\n",
        "  \n",
        "  #Split\n",
        "  array_len = len(array);\n",
        "\n",
        "  middle = array_len // 2;\n",
        "  left   = array[ : middle ];\n",
        "  right  = array[ middle : ];\n",
        "  output = [];\n",
        "\n",
        "  #Recursive calls\n",
        "  newL = mergesort(left);\n",
        "  newR = mergesort(right);\n",
        "\n",
        "  #Merge\n",
        "  output = merge_nonRec(newL, newR)\n",
        "\n",
        "  return output;\n",
        "\n",
        "print(mergesort([2, 1, 5, 6, 3, 4, 8, 7, 12, 10, 9, 11]));\n",
        "\n",
        "print(mergesort([1, 3, 4, 3, 2, 2]));\n",
        "\n",
        "print(mergesort([0, 2, 1, 3]));\n",
        "\n",
        "print(mergesort([1, 1, 1, 2, 2, 2, 3, 3, 3]));\n",
        "\n",
        "randArr = np.random.randint(1,101,10);\n",
        "print(randArr);\n",
        "print(mergesort(randArr));\n",
        "\n",
        "print(mergesort([]));\n",
        "\n",
        "print(mergesort([5546,765432,0,98,5555]));\n",
        "\n",
        "print(mergesort([-987,5410,-33.89,5432.0000009]));"
      ],
      "metadata": {
        "colab": {
          "base_uri": "https://localhost:8080/",
          "height": 450
        },
        "id": "86SgnypynAY8",
        "outputId": "aa907c00-db8f-4136-b8db-aeb04d837a83"
      },
      "execution_count": null,
      "outputs": [
        {
          "output_type": "stream",
          "name": "stdout",
          "text": [
            "arrX = <class 'list'>\n",
            "arrX = <class 'list'>\n",
            "arrX = <class 'list'>\n",
            "arrX = <class 'NoneType'>\n"
          ]
        },
        {
          "output_type": "error",
          "ename": "TypeError",
          "evalue": "ignored",
          "traceback": [
            "\u001b[0;31m---------------------------------------------------------------------------\u001b[0m",
            "\u001b[0;31mTypeError\u001b[0m                                 Traceback (most recent call last)",
            "\u001b[0;32m<ipython-input-68-31571e0657c9>\u001b[0m in \u001b[0;36m<module>\u001b[0;34m()\u001b[0m\n\u001b[1;32m     21\u001b[0m   \u001b[0;32mreturn\u001b[0m \u001b[0moutput\u001b[0m\u001b[0;34m;\u001b[0m\u001b[0;34m\u001b[0m\u001b[0;34m\u001b[0m\u001b[0m\n\u001b[1;32m     22\u001b[0m \u001b[0;34m\u001b[0m\u001b[0m\n\u001b[0;32m---> 23\u001b[0;31m \u001b[0mprint\u001b[0m\u001b[0;34m(\u001b[0m\u001b[0mmergesort\u001b[0m\u001b[0;34m(\u001b[0m\u001b[0;34m[\u001b[0m\u001b[0;36m2\u001b[0m\u001b[0;34m,\u001b[0m \u001b[0;36m1\u001b[0m\u001b[0;34m,\u001b[0m \u001b[0;36m5\u001b[0m\u001b[0;34m,\u001b[0m \u001b[0;36m6\u001b[0m\u001b[0;34m,\u001b[0m \u001b[0;36m3\u001b[0m\u001b[0;34m,\u001b[0m \u001b[0;36m4\u001b[0m\u001b[0;34m,\u001b[0m \u001b[0;36m8\u001b[0m\u001b[0;34m,\u001b[0m \u001b[0;36m7\u001b[0m\u001b[0;34m,\u001b[0m \u001b[0;36m12\u001b[0m\u001b[0;34m,\u001b[0m \u001b[0;36m10\u001b[0m\u001b[0;34m,\u001b[0m \u001b[0;36m9\u001b[0m\u001b[0;34m,\u001b[0m \u001b[0;36m11\u001b[0m\u001b[0;34m]\u001b[0m\u001b[0;34m)\u001b[0m\u001b[0;34m)\u001b[0m\u001b[0;34m;\u001b[0m\u001b[0;34m\u001b[0m\u001b[0;34m\u001b[0m\u001b[0m\n\u001b[0m\u001b[1;32m     24\u001b[0m \u001b[0;34m\u001b[0m\u001b[0m\n\u001b[1;32m     25\u001b[0m \u001b[0mprint\u001b[0m\u001b[0;34m(\u001b[0m\u001b[0mmergesort\u001b[0m\u001b[0;34m(\u001b[0m\u001b[0;34m[\u001b[0m\u001b[0;36m1\u001b[0m\u001b[0;34m,\u001b[0m \u001b[0;36m3\u001b[0m\u001b[0;34m,\u001b[0m \u001b[0;36m4\u001b[0m\u001b[0;34m,\u001b[0m \u001b[0;36m3\u001b[0m\u001b[0;34m,\u001b[0m \u001b[0;36m2\u001b[0m\u001b[0;34m,\u001b[0m \u001b[0;36m2\u001b[0m\u001b[0;34m]\u001b[0m\u001b[0;34m)\u001b[0m\u001b[0;34m)\u001b[0m\u001b[0;34m;\u001b[0m\u001b[0;34m\u001b[0m\u001b[0;34m\u001b[0m\u001b[0m\n",
            "\u001b[0;32m<ipython-input-68-31571e0657c9>\u001b[0m in \u001b[0;36mmergesort\u001b[0;34m(array)\u001b[0m\n\u001b[1;32m     13\u001b[0m \u001b[0;34m\u001b[0m\u001b[0m\n\u001b[1;32m     14\u001b[0m   \u001b[0;31m#Recursive calls\u001b[0m\u001b[0;34m\u001b[0m\u001b[0;34m\u001b[0m\u001b[0;34m\u001b[0m\u001b[0m\n\u001b[0;32m---> 15\u001b[0;31m   \u001b[0mnewL\u001b[0m \u001b[0;34m=\u001b[0m \u001b[0mmergesort\u001b[0m\u001b[0;34m(\u001b[0m\u001b[0mleft\u001b[0m\u001b[0;34m)\u001b[0m\u001b[0;34m;\u001b[0m\u001b[0;34m\u001b[0m\u001b[0;34m\u001b[0m\u001b[0m\n\u001b[0m\u001b[1;32m     16\u001b[0m   \u001b[0mnewR\u001b[0m \u001b[0;34m=\u001b[0m \u001b[0mmergesort\u001b[0m\u001b[0;34m(\u001b[0m\u001b[0mright\u001b[0m\u001b[0;34m)\u001b[0m\u001b[0;34m;\u001b[0m\u001b[0;34m\u001b[0m\u001b[0;34m\u001b[0m\u001b[0m\n\u001b[1;32m     17\u001b[0m \u001b[0;34m\u001b[0m\u001b[0m\n",
            "\u001b[0;32m<ipython-input-68-31571e0657c9>\u001b[0m in \u001b[0;36mmergesort\u001b[0;34m(array)\u001b[0m\n\u001b[1;32m     13\u001b[0m \u001b[0;34m\u001b[0m\u001b[0m\n\u001b[1;32m     14\u001b[0m   \u001b[0;31m#Recursive calls\u001b[0m\u001b[0;34m\u001b[0m\u001b[0;34m\u001b[0m\u001b[0;34m\u001b[0m\u001b[0m\n\u001b[0;32m---> 15\u001b[0;31m   \u001b[0mnewL\u001b[0m \u001b[0;34m=\u001b[0m \u001b[0mmergesort\u001b[0m\u001b[0;34m(\u001b[0m\u001b[0mleft\u001b[0m\u001b[0;34m)\u001b[0m\u001b[0;34m;\u001b[0m\u001b[0;34m\u001b[0m\u001b[0;34m\u001b[0m\u001b[0m\n\u001b[0m\u001b[1;32m     16\u001b[0m   \u001b[0mnewR\u001b[0m \u001b[0;34m=\u001b[0m \u001b[0mmergesort\u001b[0m\u001b[0;34m(\u001b[0m\u001b[0mright\u001b[0m\u001b[0;34m)\u001b[0m\u001b[0;34m;\u001b[0m\u001b[0;34m\u001b[0m\u001b[0;34m\u001b[0m\u001b[0m\n\u001b[1;32m     17\u001b[0m \u001b[0;34m\u001b[0m\u001b[0m\n",
            "\u001b[0;32m<ipython-input-68-31571e0657c9>\u001b[0m in \u001b[0;36mmergesort\u001b[0;34m(array)\u001b[0m\n\u001b[1;32m     17\u001b[0m \u001b[0;34m\u001b[0m\u001b[0m\n\u001b[1;32m     18\u001b[0m   \u001b[0;31m#Merge\u001b[0m\u001b[0;34m\u001b[0m\u001b[0;34m\u001b[0m\u001b[0;34m\u001b[0m\u001b[0m\n\u001b[0;32m---> 19\u001b[0;31m   \u001b[0moutput\u001b[0m \u001b[0;34m=\u001b[0m \u001b[0mmerge_nonRec\u001b[0m\u001b[0;34m(\u001b[0m\u001b[0mnewL\u001b[0m\u001b[0;34m,\u001b[0m \u001b[0mnewR\u001b[0m\u001b[0;34m)\u001b[0m\u001b[0;34m\u001b[0m\u001b[0;34m\u001b[0m\u001b[0m\n\u001b[0m\u001b[1;32m     20\u001b[0m \u001b[0;34m\u001b[0m\u001b[0m\n\u001b[1;32m     21\u001b[0m   \u001b[0;32mreturn\u001b[0m \u001b[0moutput\u001b[0m\u001b[0;34m;\u001b[0m\u001b[0;34m\u001b[0m\u001b[0;34m\u001b[0m\u001b[0m\n",
            "\u001b[0;32m<ipython-input-65-be492090510d>\u001b[0m in \u001b[0;36mmerge_nonRec\u001b[0;34m(arrX, arrY)\u001b[0m\n\u001b[1;32m     11\u001b[0m   \u001b[0;32mif\u001b[0m \u001b[0mlen\u001b[0m\u001b[0;34m(\u001b[0m\u001b[0marrX\u001b[0m\u001b[0;34m)\u001b[0m \u001b[0;34m==\u001b[0m \u001b[0;36m0\u001b[0m\u001b[0;34m:\u001b[0m\u001b[0;34m\u001b[0m\u001b[0;34m\u001b[0m\u001b[0m\n\u001b[1;32m     12\u001b[0m     \u001b[0;32mreturn\u001b[0m \u001b[0marrY\u001b[0m\u001b[0;34m\u001b[0m\u001b[0;34m\u001b[0m\u001b[0m\n\u001b[0;32m---> 13\u001b[0;31m   \u001b[0;32mif\u001b[0m \u001b[0mlen\u001b[0m\u001b[0;34m(\u001b[0m\u001b[0marrY\u001b[0m\u001b[0;34m)\u001b[0m \u001b[0;34m==\u001b[0m \u001b[0;36m0\u001b[0m\u001b[0;34m:\u001b[0m\u001b[0;34m\u001b[0m\u001b[0;34m\u001b[0m\u001b[0m\n\u001b[0m\u001b[1;32m     14\u001b[0m     \u001b[0;32mreturn\u001b[0m \u001b[0marrX\u001b[0m\u001b[0;34m\u001b[0m\u001b[0;34m\u001b[0m\u001b[0m\n\u001b[1;32m     15\u001b[0m \u001b[0;34m\u001b[0m\u001b[0m\n",
            "\u001b[0;31mTypeError\u001b[0m: object of type 'NoneType' has no len()"
          ]
        }
      ]
    },
    {
      "cell_type": "code",
      "source": [
        "def merge2 (left, right, counter = 0):\n",
        "  array_len = len(left) + len(right);\n",
        "  output = [];\n",
        "  \n",
        "  i = 0;\n",
        "  counter += 1;\n",
        "  j = 0;\n",
        "  counter += 1;\n",
        "\n",
        "  while len(output) <= array_len:\n",
        "    \n",
        "    if i >= len(left):\n",
        "        appendEnd(output, right, j);\n",
        "        break;\n",
        "\n",
        "    if j >= len(right):\n",
        "        appendEnd(output, left, i);\n",
        "        break;\n",
        "\n",
        "    if left[i] < right[j]:\n",
        "      output.append(left[i]);\n",
        "      i += 1;\n",
        "    else:\n",
        "      output.append(right[j]);\n",
        "      j += 1;\n",
        "    \n",
        "    counter += 1;\n",
        "  \n",
        "  #print(\"done: i = \" + str(i) + \", j = \" + str(j));\n",
        "\n",
        "  return output, counter;"
      ],
      "metadata": {
        "id": "6orJb-xt4Zk5"
      },
      "execution_count": null,
      "outputs": []
    },
    {
      "cell_type": "code",
      "source": [
        "def mergesort2 (array, counter = 0):\n",
        "  #Base case\n",
        "  if len(array) <= 1:\n",
        "    return array, counter;\n",
        "  \n",
        "  #Split\n",
        "  array_len = len(array);\n",
        "\n",
        "  middle = array_len // 2;\n",
        "  left   = array[ : middle ];\n",
        "  right  = array[ middle : ];\n",
        "  output = [];\n",
        "\n",
        "  #Recursive calls\n",
        "  newL, counter = mergesort2(left, counter);\n",
        "  newR, counter = mergesort2(right, counter);\n",
        "\n",
        "  #Merge\n",
        "  output, counter = merge2(newL, newR, counter)\n",
        "\n",
        "  return output, counter;"
      ],
      "metadata": {
        "id": "Mf1TT_9m2v3i"
      },
      "execution_count": null,
      "outputs": []
    },
    {
      "cell_type": "code",
      "source": [
        "arr = [2, 1, 5, 6, 3, 4, 8, 7, 12, 10, 9, 11];\n",
        "n = len(arr);\n",
        "#print(mergesort2(arr));\n",
        "\n",
        "arr = [1, 3, 4, 3, 2, 2];\n",
        "n = len(arr);\n",
        "#print(mergesort2(arr));\n",
        "\n",
        "arr = [0, 2, 1, 3];\n",
        "n = len(arr);\n",
        "#print(mergesort2(arr));\n",
        "\n",
        "arr = [1, 1, 1, 2, 2, 2, 3, 3, 3];\n",
        "n = len(arr);\n",
        "#print(mergesort2(arr));\n",
        "\n",
        "randArr = np.random.randint(1,101,10);\n",
        "n = len(randArr);\n",
        "print(\"n = \" + str(n) + \", log(n) = \" + str(np.log2(n)) + \", n*log(n) = \" + str(n*np.log2(n)));\n",
        "_, count = mergesort2(randArr);\n",
        "print(str(count));\n",
        "\n",
        "randArr = np.random.randint(1,101,40);\n",
        "n = len(randArr);\n",
        "print(\"n = \" + str(n) + \", log(n) = \" + str(np.log2(n)) + \", n*log(n) = \" + str(n*np.log2(n)));\n",
        "_, count = mergesort2(randArr);\n",
        "print(str(count));\n",
        "\n",
        "randArr = np.random.randint(1,10001,5000);\n",
        "n = len(randArr);\n",
        "print(\"n = \" + str(n) + \", log(n) = \" + str(np.log2(n)) + \", n*log(n) = \" + str(n*np.log2(n)));\n",
        "_, count = mergesort2(randArr);\n",
        "print(str(count));\n",
        "\n",
        "print(mergesort2([]));\n",
        "\n",
        "print(mergesort2([1, 2, 3, 4]));"
      ],
      "metadata": {
        "colab": {
          "base_uri": "https://localhost:8080/"
        },
        "id": "Yxvz_5E47qB_",
        "outputId": "e75bd6ce-78c5-4ff7-877a-9c14d96c9ea6"
      },
      "execution_count": null,
      "outputs": [
        {
          "output_type": "stream",
          "name": "stdout",
          "text": [
            "n = 10, log(n) = 3.321928094887362, n*log(n) = 33.219280948873624\n",
            "41\n",
            "n = 40, log(n) = 5.321928094887363, n*log(n) = 212.8771237954945\n",
            "248\n",
            "n = 5000, log(n) = 12.287712379549449, n*log(n) = 61438.56189774724\n",
            "65311\n",
            "([], 0)\n",
            "([1, 2, 3, 4], 10)\n"
          ]
        }
      ]
    },
    {
      "cell_type": "code",
      "source": [
        "x = []\n",
        "x.append([1])\n",
        "x.append([2])\n",
        "print(x)"
      ],
      "metadata": {
        "id": "3RgIitg-lR5C",
        "colab": {
          "base_uri": "https://localhost:8080/"
        },
        "outputId": "8f7e9ffa-a985-44de-890b-893947309d0a"
      },
      "execution_count": null,
      "outputs": [
        {
          "output_type": "stream",
          "name": "stdout",
          "text": [
            "[[1], [2]]\n"
          ]
        }
      ]
    },
    {
      "cell_type": "code",
      "source": [
        "x = [1, 2, 3] + [4, 5, 6]\n",
        "print(x)"
      ],
      "metadata": {
        "colab": {
          "base_uri": "https://localhost:8080/"
        },
        "id": "gBTsAoafsuhW",
        "outputId": "ed8746d5-f2e4-4b82-e936-c35f307a8d4f"
      },
      "execution_count": null,
      "outputs": [
        {
          "output_type": "stream",
          "name": "stdout",
          "text": [
            "[1, 2, 3, 4, 5, 6]\n"
          ]
        }
      ]
    },
    {
      "cell_type": "code",
      "source": [
        ""
      ],
      "metadata": {
        "id": "sqd86QYvISuM"
      },
      "execution_count": null,
      "outputs": []
    }
  ]
}