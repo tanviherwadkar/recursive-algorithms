{
  "nbformat": 4,
  "nbformat_minor": 0,
  "metadata": {
    "colab": {
      "name": "Karatsuba1.ipynb",
      "provenance": []
    },
    "kernelspec": {
      "name": "python3",
      "display_name": "Python 3"
    },
    "language_info": {
      "name": "python"
    }
  },
  "cells": [
    {
      "cell_type": "code",
      "execution_count": null,
      "metadata": {
        "id": "aJb2zLU3Ftn3"
      },
      "outputs": [],
      "source": [
        "def half(num):\n",
        "  strNum = str(num);\n",
        "  length = len(strNum);\n",
        "\n",
        "  a = strNum[:length//2];\n",
        "  b = strNum[length//2:];\n",
        "  \n",
        "  numA = int(a);\n",
        "  numB = int(b);\n",
        "\n",
        "  return numA, numB;\n",
        "\n",
        "#for num in half(3472727425192022):\n",
        "#  if num > 9:\n",
        "#    print(num)\n",
        "#    print(half(num))"
      ]
    },
    {
      "cell_type": "code",
      "source": [
        "def computeGauss (ac, bd, abcd):\n",
        "  return abcd - ac - bd;"
      ],
      "metadata": {
        "id": "Z7PLRwJ3ZQd1"
      },
      "execution_count": null,
      "outputs": []
    },
    {
      "cell_type": "code",
      "source": [
        "def computeResult (ac, gauss, bd, l):\n",
        "  return (10 ** l) * ac + (10 ** (l // 2)) * gauss + bd;"
      ],
      "metadata": {
        "id": "LCQJJh0RZX-e"
      },
      "execution_count": null,
      "outputs": []
    },
    {
      "cell_type": "code",
      "source": [
        "def karatsuba(x, y, counter = 0):\n",
        "\n",
        "  if x < 10 or y < 10:\n",
        "    counter = counter + max(len(str(x)), len(str(y)));\n",
        "    return x * y, counter;\n",
        "\n",
        "  else:\n",
        "    n = max( len(str(x)) , len(str(y)) );\n",
        "    n_half = n // 2;\n",
        "\n",
        "    ten_pow_n_half = 10 ** n_half;\n",
        "    ten_pow_n = ten_pow_n_half * ten_pow_n_half;\n",
        "\n",
        "    a = x // ten_pow_n_half;\n",
        "    b = x % ten_pow_n_half;\n",
        "\n",
        "    c = y // ten_pow_n_half;\n",
        "    d = y % ten_pow_n_half;\n",
        "    \n",
        "    #rint(\"1. before = \" + str(counter))\n",
        "    ac, counter    = karatsuba( a , c , counter);\n",
        "    #print(\"1. after = \" + str(counter))\n",
        "\n",
        "    #print(\"2. before = \" + str(counter))\n",
        "    bd, counter    = karatsuba( b , d , counter);\n",
        "    #print(\"2. after = \" + str(counter))\n",
        "\n",
        "    #print(\"3. before = \" + str(counter))\n",
        "    abcd, counter  = karatsuba( a + b , c + d , counter);\n",
        "    #print(\"3. after = \" + str(counter))\n",
        "    \n",
        "    #print(\"4. before = \" + str(counter))\n",
        "    abcd     = abcd  - ac - bd;\n",
        "    result   = ( ac * ten_pow_n ) + ( abcd * ten_pow_n_half ) + bd;\n",
        "    return result, counter;\n"
      ],
      "metadata": {
        "id": "SoX_uNGPIF41"
      },
      "execution_count": null,
      "outputs": []
    },
    {
      "cell_type": "code",
      "source": [
        "print(karatsuba(3, 5))\n",
        "print(karatsuba(9, 9))\n",
        "print(karatsuba(8, 7))"
      ],
      "metadata": {
        "colab": {
          "base_uri": "https://localhost:8080/"
        },
        "id": "irfNR6_BhMXd",
        "outputId": "505bb52a-9872-4d47-db55-43ac575f8da9"
      },
      "execution_count": null,
      "outputs": [
        {
          "output_type": "stream",
          "name": "stdout",
          "text": [
            "(15, 1)\n",
            "(81, 1)\n",
            "(56, 1)\n"
          ]
        }
      ]
    },
    {
      "cell_type": "code",
      "source": [
        "print(karatsuba(13, 55))\n",
        "print(karatsuba(26, 72))"
      ],
      "metadata": {
        "colab": {
          "base_uri": "https://localhost:8080/"
        },
        "id": "aood2YmMyfys",
        "outputId": "05cf85d4-a61b-4ed6-8143-b99504fcb1b3"
      },
      "execution_count": null,
      "outputs": [
        {
          "output_type": "stream",
          "name": "stdout",
          "text": [
            "(715, 4)\n",
            "(1872, 3)\n"
          ]
        }
      ]
    },
    {
      "cell_type": "code",
      "source": [
        "print(karatsuba(1234, 5678))\n",
        "print(karatsuba(12, 34))\n",
        "print(karatsuba(123456789, 987654321))\n",
        "print(karatsuba(11, 11))\n",
        "print(karatsuba(111, 111))\n",
        "print(karatsuba(1111, 1111))\n",
        "print(karatsuba(11111, 11111))\n",
        "print(karatsuba(111111, 111111))\n",
        "print(karatsuba(11111111, 11111111))\n",
        "print(karatsuba(111111111, 111111111))"
      ],
      "metadata": {
        "colab": {
          "base_uri": "https://localhost:8080/"
        },
        "id": "6rUBGNRNhHV-",
        "outputId": "882106a6-0bbb-4023-d466-4ecd4210886d"
      },
      "execution_count": null,
      "outputs": [
        {
          "output_type": "stream",
          "name": "stdout",
          "text": [
            "(7006652, 14)\n",
            "(408, 3)\n",
            "(121932631112635269, 57)\n",
            "(121, 3)\n",
            "(12321, 7)\n",
            "(1234321, 9)\n",
            "(123454321, 17)\n",
            "(12345654321, 21)\n",
            "(123456787654321, 27)\n",
            "(12345678987654321, 43)\n"
          ]
        }
      ]
    },
    {
      "cell_type": "code",
      "source": [
        "def recur(n, count=0):\n",
        "    if n == 0:\n",
        "        print(\"base case: n=\" + str(n) + \" and count=\" + str(count));\n",
        "\n",
        "        return \"Finished count %s\" % count, count\n",
        "\n",
        "    print(\"recursion: n-1 = \" + str(n-1) + \" and count=\" + str(count+1));\n",
        "\n",
        "    return recur(n-1, count+1)\n",
        "\n",
        "message, count = recur(12);\n",
        "print(message)\n",
        "print(count)"
      ],
      "metadata": {
        "id": "0sgotT2OX3cF",
        "colab": {
          "base_uri": "https://localhost:8080/"
        },
        "outputId": "38de542a-d180-471b-8a35-3ccd80b2a607"
      },
      "execution_count": null,
      "outputs": [
        {
          "output_type": "stream",
          "name": "stdout",
          "text": [
            "recursion: n-1 = 11 and count=1\n",
            "recursion: n-1 = 10 and count=2\n",
            "recursion: n-1 = 9 and count=3\n",
            "recursion: n-1 = 8 and count=4\n",
            "recursion: n-1 = 7 and count=5\n",
            "recursion: n-1 = 6 and count=6\n",
            "recursion: n-1 = 5 and count=7\n",
            "recursion: n-1 = 4 and count=8\n",
            "recursion: n-1 = 3 and count=9\n",
            "recursion: n-1 = 2 and count=10\n",
            "recursion: n-1 = 1 and count=11\n",
            "recursion: n-1 = 0 and count=12\n",
            "base case: n=0 and count=12\n",
            "Finished count 12\n",
            "12\n"
          ]
        }
      ]
    },
    {
      "cell_type": "code",
      "source": [
        ""
      ],
      "metadata": {
        "id": "p00tOijsfYtK"
      },
      "execution_count": null,
      "outputs": []
    }
  ]
}