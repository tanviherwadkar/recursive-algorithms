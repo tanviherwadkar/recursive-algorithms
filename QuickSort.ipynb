{
  "nbformat": 4,
  "nbformat_minor": 0,
  "metadata": {
    "colab": {
      "name": "QuickSort.ipynb",
      "provenance": []
    },
    "kernelspec": {
      "name": "python3",
      "display_name": "Python 3"
    },
    "language_info": {
      "name": "python"
    }
  },
  "cells": [
    {
      "cell_type": "code",
      "source": [
        "import random \n",
        "\n",
        "def partition(array, left, right):\n",
        "\n",
        "  pivot = array[left];\n",
        "  i = left + 1;\n",
        "\n",
        "  for j in range(left+1, right):\n",
        "    if array[j] >= pivot:\n",
        "      continue;\n",
        "    \n",
        "    if array[j] < pivot:\n",
        "      array[j], array[i] = array[i], array[j];\n",
        "      i = i + 1;\n",
        "\n",
        "  array[left], array[i - 1] = array[i - 1], array[left];\n",
        "\n",
        "  return array, pivot"
      ],
      "metadata": {
        "id": "yu6I4XARalws"
      },
      "execution_count": null,
      "outputs": []
    },
    {
      "cell_type": "code",
      "source": [
        "nums = arr = random.sample(range(0, 100), 10);\n",
        "print(nums);\n",
        "\n",
        "nums, pivot = partition(nums, 0, len(nums));\n",
        "print(str(nums) + \" pivot = \" + str(pivot))\n",
        "\n",
        "nums = [3, 2, 1, 4, 5]\n",
        "nums, pivot = partition(nums, 0, len(nums));\n",
        "print(str(nums) + \" pivot = \" + str(pivot))\n",
        "\n",
        "nums = [1, 2, 3, 4, 5]\n",
        "nums, pivot = partition(nums, 0, len(nums));\n",
        "print(str(nums) + \" pivot = \" + str(pivot))\n",
        "\n",
        "nums = [5, 4, 3, 2, 1]\n",
        "nums, pivot = partition(nums, 0, len(nums));\n",
        "print(str(nums) + \" pivot = \" + str(pivot))"
      ],
      "metadata": {
        "colab": {
          "base_uri": "https://localhost:8080/"
        },
        "id": "LnXkXGdCsguX",
        "outputId": "f832d3a1-b3e8-4bb6-caf1-97ca47d5a1f3"
      },
      "execution_count": null,
      "outputs": [
        {
          "output_type": "stream",
          "name": "stdout",
          "text": [
            "[55, 52, 82, 32, 74, 87, 59, 79, 6, 21]\n",
            "[21, 52, 32, 6, 55, 87, 59, 79, 82, 74] pivot = 55\n",
            "[1, 2, 3, 4, 5] pivot = 3\n",
            "[1, 2, 3, 4, 5] pivot = 1\n",
            "[1, 4, 3, 2, 5] pivot = 5\n"
          ]
        }
      ]
    },
    {
      "cell_type": "code",
      "execution_count": null,
      "metadata": {
        "id": "VobS4z7GXQJC"
      },
      "outputs": [],
      "source": [
        "def quicksort(array, l, r):\n",
        "  if l >= r:\n",
        "    return array;\n",
        "  \n",
        "  if (r-l) > 1:\n",
        "    ridx = random.randrange(l + 1, r);\n",
        "  else:\n",
        "    ridx = random.randrange(l, r);\n",
        "\n",
        "  # print(\"l = {}, r = {}, ridx = {}\".format(l, r, ridx))\n",
        "  array[l], array[ridx] = array[ridx], array[l];\n",
        "\n",
        "  array, pidx = partition(array, l, r)\n",
        "  quicksort(array, l, pidx)\n",
        "  quicksort(array, pidx + 1, r)\n",
        "\n",
        "  return array"
      ]
    },
    {
      "cell_type": "code",
      "source": [
        "nums = arr = random.sample(range(0, 50), 10);\n",
        "print(nums);\n",
        "\n",
        "nums = quicksort(nums, 0, len(nums));\n",
        "print(nums);\n",
        "\n",
        "print(quicksort(nums, 0, len(nums)));"
      ],
      "metadata": {
        "colab": {
          "base_uri": "https://localhost:8080/"
        },
        "id": "oZA4z2JPr0_-",
        "outputId": "19e2428a-20ed-44c1-9a95-2b85a3cbf554"
      },
      "execution_count": null,
      "outputs": [
        {
          "output_type": "stream",
          "name": "stdout",
          "text": [
            "[22, 37, 27, 12, 35, 11, 30, 0, 47, 1]\n",
            "[0, 1, 11, 12, 22, 27, 30, 35, 37, 47]\n",
            "[0, 1, 11, 12, 22, 27, 30, 35, 37, 47]\n"
          ]
        }
      ]
    },
    {
      "cell_type": "code",
      "source": [
        "import random \n",
        "def quicksort(arr):\n",
        "  if len(arr) <= 1:\n",
        "    return arr;\n",
        "\n",
        "  pivot = arr[len(arr) // 2];\n",
        "  left = [ x for x in arr if x < pivot ];\n",
        "  right = [ x for x in arr if x > pivot ];\n",
        "  middle = [ x for x in arr if x == pivot ];\n",
        "\n",
        "  return quicksort(left) + middle + quicksort(right);\n",
        "\n",
        "arr = random.sample(range(0, 100), 20);\n",
        "\n",
        "print(arr);\n",
        "print(quicksort(arr));"
      ],
      "metadata": {
        "colab": {
          "base_uri": "https://localhost:8080/"
        },
        "id": "CF_MxQVpJqqT",
        "outputId": "8eb82c8b-d2a2-4b04-8b28-2a3c19d526e1"
      },
      "execution_count": null,
      "outputs": [
        {
          "output_type": "stream",
          "name": "stdout",
          "text": [
            "[86, 63, 54, 75, 85, 35, 97, 37, 49, 62, 46, 66, 72, 51, 50, 90, 47, 70, 64, 20]\n",
            "[20, 35, 37, 46, 47, 49, 50, 51, 54, 62, 63, 64, 66, 70, 72, 75, 85, 86, 90, 97]\n"
          ]
        }
      ]
    },
    {
      "cell_type": "code",
      "source": [
        ""
      ],
      "metadata": {
        "id": "FSxsXv_2KvNZ"
      },
      "execution_count": null,
      "outputs": []
    }
  ]
}